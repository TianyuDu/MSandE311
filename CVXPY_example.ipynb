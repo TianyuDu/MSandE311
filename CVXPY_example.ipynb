{
 "cells": [
  {
   "cell_type": "markdown",
   "metadata": {},
   "source": [
    "## First example"
   ]
  },
  {
   "cell_type": "code",
   "execution_count": 1,
   "metadata": {},
   "outputs": [
    {
     "name": "stdout",
     "output_type": "stream",
     "text": [
      "===============================================================================\n",
      "                                     CVXPY                                     \n",
      "                                    v1.1.18                                    \n",
      "===============================================================================\n",
      "(CVXPY) Mar 02 12:24:44 AM: Your problem has 20 variables, 2 constraints, and 0 parameters.\n",
      "(CVXPY) Mar 02 12:24:44 AM: It is compliant with the following grammars: DCP, DQCP\n",
      "(CVXPY) Mar 02 12:24:44 AM: (If you need to solve this problem multiple times, but with different data, consider using parameters.)\n",
      "(CVXPY) Mar 02 12:24:44 AM: CVXPY will first compile your problem; then, it will invoke a numerical solver to obtain a solution.\n",
      "-------------------------------------------------------------------------------\n",
      "                                  Compilation                                  \n",
      "-------------------------------------------------------------------------------\n",
      "(CVXPY) Mar 02 12:24:44 AM: Compiling problem (target solver=OSQP).\n",
      "(CVXPY) Mar 02 12:24:44 AM: Reduction chain: CvxAttr2Constr -> Qp2SymbolicQp -> QpMatrixStuffing -> OSQP\n",
      "(CVXPY) Mar 02 12:24:44 AM: Applying reduction CvxAttr2Constr\n",
      "(CVXPY) Mar 02 12:24:44 AM: Applying reduction Qp2SymbolicQp\n",
      "(CVXPY) Mar 02 12:24:44 AM: Applying reduction QpMatrixStuffing\n",
      "(CVXPY) Mar 02 12:24:44 AM: Applying reduction OSQP\n",
      "(CVXPY) Mar 02 12:24:44 AM: Finished problem compilation (took 9.461e-03 seconds).\n",
      "-------------------------------------------------------------------------------\n",
      "                                Numerical solver                               \n",
      "-------------------------------------------------------------------------------\n",
      "(CVXPY) Mar 02 12:24:44 AM: Invoking solver OSQP  to obtain a solution.\n",
      "-----------------------------------------------------------------\n",
      "           OSQP v0.6.2  -  Operator Splitting QP Solver\n",
      "              (c) Bartolomeo Stellato,  Goran Banjac\n",
      "        University of Oxford  -  Stanford University 2021\n",
      "-----------------------------------------------------------------\n",
      "problem:  variables n = 50, constraints m = 70\n",
      "          nnz(P) + nnz(A) = 700\n",
      "settings: linear system solver = qdldl,\n",
      "          eps_abs = 1.0e-05, eps_rel = 1.0e-05,\n",
      "          eps_prim_inf = 1.0e-04, eps_dual_inf = 1.0e-04,\n",
      "          rho = 1.00e-01 (adaptive),\n",
      "          sigma = 1.00e-06, alpha = 1.60, max_iter = 10000\n",
      "          check_termination: on (interval 25),\n",
      "          scaling: on, scaled_termination: off\n",
      "          warm start: on, polish: on, time_limit: off\n",
      "\n",
      "iter   objective    pri res    dua res    rho        time\n",
      "   1   0.0000e+00   1.95e+00   6.37e+02   1.00e-01   1.31e-04s\n",
      " 200   1.9831e+01   2.92e-05   5.58e-06   1.29e+00   6.37e-04s\n",
      "plsh   1.9831e+01   3.35e-16   8.89e-15   --------   8.99e-04s\n",
      "\n",
      "status:               solved\n",
      "solution polish:      successful\n",
      "number of iterations: 200\n",
      "optimal objective:    19.8313\n",
      "run time:             8.99e-04s\n",
      "optimal rho estimate: 4.33e+00\n",
      "\n",
      "-------------------------------------------------------------------------------\n",
      "                                    Summary                                    \n",
      "-------------------------------------------------------------------------------\n",
      "(CVXPY) Mar 02 12:24:44 AM: Problem status: optimal\n",
      "(CVXPY) Mar 02 12:24:44 AM: Optimal value: 1.983e+01\n",
      "(CVXPY) Mar 02 12:24:44 AM: Compilation took 9.461e-03 seconds\n",
      "(CVXPY) Mar 02 12:24:44 AM: Solver (including time spent in interface) took 2.145e-03 seconds\n",
      "[-1.79109255e-19  2.85112420e-02  2.79973443e-19  3.37658729e-20\n",
      " -2.72802663e-19  1.49285011e-01 -9.94082533e-20  8.35373900e-20\n",
      "  2.46718649e-01  5.78224144e-01 -4.03739463e-19  1.01242860e-03\n",
      " -9.28486180e-20  2.26767464e-01 -1.58813678e-19 -8.97232272e-20\n",
      " -1.22145729e-19 -1.51509428e-19  1.12060672e-19 -3.48318635e-19]\n"
     ]
    },
    {
     "name": "stderr",
     "output_type": "stream",
     "text": [
      "/Users/tianyudu/miniforge3/envs/ml/lib/python3.9/site-packages/cvxpy/expressions/expression.py:564: UserWarning: \n",
      "This use of ``*`` has resulted in matrix multiplication.\n",
      "Using ``*`` for matrix multiplication has been deprecated since CVXPY 1.1.\n",
      "    Use ``*`` for matrix-scalar and vector-scalar multiplication.\n",
      "    Use ``@`` for matrix-matrix and matrix-vector multiplication.\n",
      "    Use ``multiply`` for elementwise multiplication.\n",
      "This code path has been hit 1 times so far.\n",
      "\n",
      "  warnings.warn(msg, UserWarning)\n"
     ]
    }
   ],
   "source": [
    "import cvxpy as cp\n",
    "import numpy as np\n",
    "\n",
    "# Problem data.\n",
    "m = 30\n",
    "n = 20\n",
    "np.random.seed(1)\n",
    "A = np.random.randn(m, n)\n",
    "b = np.random.randn(m)\n",
    "\n",
    "# Construct the problem.\n",
    "x = cp.Variable(n)\n",
    "objective = cp.Minimize(cp.sum_squares(A*x - b))\n",
    "constraints = [0 <= x, x <= 1]\n",
    "prob = cp.Problem(objective, constraints)\n",
    "\n",
    "# The optimal objective value is returned by `prob.solve()`.\n",
    "result = prob.solve(verbose=True)\n",
    "# The optimal value for x is stored in `x.value`.\n",
    "print(x.value)"
   ]
  },
  {
   "cell_type": "code",
   "execution_count": 2,
   "metadata": {},
   "outputs": [
    {
     "name": "stdout",
     "output_type": "stream",
     "text": [
      "-----------------------------------------------------------------\n",
      "           OSQP v0.6.0  -  Operator Splitting QP Solver\n",
      "              (c) Bartolomeo Stellato,  Goran Banjac\n",
      "        University of Oxford  -  Stanford University 2019\n",
      "-----------------------------------------------------------------\n",
      "problem:  variables n = 3, constraints m = 4\n",
      "          nnz(P) + nnz(A) = 6\n",
      "settings: linear system solver = qdldl,\n",
      "          eps_abs = 1.0e-05, eps_rel = 1.0e-05,\n",
      "          eps_prim_inf = 1.0e-04, eps_dual_inf = 1.0e-04,\n",
      "          rho = 1.00e-01 (adaptive),\n",
      "          sigma = 1.00e-06, alpha = 1.60, max_iter = 10000\n",
      "          check_termination: on (interval 25),\n",
      "          scaling: on, scaled_termination: off\n",
      "          warm start: on, polish: on, time_limit: off\n",
      "\n",
      "iter   objective    pri res    dua res    rho        time\n",
      "   1  -5.3475e+00   5.34e+00   2.01e+02   1.00e-01   5.19e-05s\n",
      "  50   1.0000e+00   2.14e-06   1.21e-07   1.00e-01   1.09e-04s\n",
      "plsh   1.0000e+00   5.55e-23   0.00e+00   --------   1.84e-04s\n",
      "\n",
      "status:               solved\n",
      "solution polish:      successful\n",
      "number of iterations: 50\n",
      "optimal objective:    1.0000\n",
      "run time:             1.84e-04s\n",
      "optimal rho estimate: 5.93e-01\n",
      "\n",
      "[-5.55111505e-23  5.00000000e-01  5.00000000e-01]\n"
     ]
    }
   ],
   "source": [
    "x = cp.Variable(3)\n",
    "objective = cp.Minimize(2*x[0]+x[1]+x[2])\n",
    "constraints = [0 <= x, sum(x)==1]\n",
    "prob = cp.Problem(objective, constraints)\n",
    "\n",
    "# The optimal objective value is returned by `prob.solve()`.\n",
    "result = prob.solve(verbose=True)\n",
    "# The optimal value for x is stored in `x.value`.\n",
    "print(x.value)\n"
   ]
  },
  {
   "cell_type": "code",
   "execution_count": 3,
   "metadata": {},
   "outputs": [
    {
     "name": "stdout",
     "output_type": "stream",
     "text": [
      "\n",
      "ECOS 2.0.7 - (C) embotech GmbH, Zurich Switzerland, 2012-15. Web: www.embotech.com/ECOS\n",
      "\n",
      "It     pcost       dcost      gap   pres   dres    k/t    mu     step   sigma     IR    |   BT\n",
      " 0  +1.337e+00  +1.337e+00  +9e+00  5e-01  5e-01  1e+00  2e+00    ---    ---    1  1  - |  -  - \n",
      " 1  +1.161e+00  +1.200e+00  +3e+00  1e-01  8e-02  2e-01  5e-01  0.7120  7e-02   1  1  1 |  0  0\n",
      " 2  +1.391e+00  +1.399e+00  +6e-01  3e-02  2e-02  5e-02  1e-01  0.9030  2e-01   2  2  2 |  0  0\n",
      " 3  +1.414e+00  +1.414e+00  +1e-02  6e-04  3e-04  1e-03  3e-03  0.9791  1e-03   1  1  1 |  0  0\n",
      " 4  +1.414e+00  +1.414e+00  +1e-04  6e-06  3e-06  1e-05  3e-05  0.9890  1e-04   1  1  1 |  0  0\n",
      " 5  +1.414e+00  +1.414e+00  +1e-06  7e-08  4e-08  2e-07  4e-07  0.9890  1e-04   1  1  1 |  0  0\n",
      " 6  +1.414e+00  +1.414e+00  +2e-08  8e-10  4e-10  2e-09  4e-09  0.9890  1e-04   1  1  1 |  0  0\n",
      " 7  +1.414e+00  +1.414e+00  +2e-10  8e-12  4e-12  2e-11  4e-11  0.9890  1e-04   2  1  1 |  0  0\n",
      "\n",
      "OPTIMAL (within feastol=8.5e-12, reltol=1.3e-10, abstol=1.8e-10).\n",
      "Runtime: 0.000284 seconds.\n",
      "\n",
      "[0.41421356 0.29289322 0.29289322]\n",
      "1.4142135623681729\n"
     ]
    }
   ],
   "source": [
    "x = cp.Variable(3)\n",
    "objective = cp.Minimize(2*x[0]+x[1]+x[2])\n",
    "constraints = [0 <= x, sum(x)==1, x[0]>=cp.norm(x[1:3])]\n",
    "prob = cp.Problem(objective, constraints)\n",
    "\n",
    "# The optimal objective value is returned by `prob.solve()`.\n",
    "result = prob.solve(verbose=True)\n",
    "# The optimal value for x is stored in `x.value`.\n",
    "print(x.value)\n",
    "print(result)"
   ]
  },
  {
   "cell_type": "code",
   "execution_count": 2,
   "metadata": {},
   "outputs": [
    {
     "name": "stdout",
     "output_type": "stream",
     "text": [
      "===============================================================================\n",
      "                                     CVXPY                                     \n",
      "                                    v1.1.18                                    \n",
      "===============================================================================\n",
      "(CVXPY) Mar 02 01:29:00 AM: Your problem has 7 variables, 5 constraints, and 0 parameters.\n",
      "(CVXPY) Mar 02 01:29:00 AM: It is compliant with the following grammars: DCP, DQCP\n",
      "(CVXPY) Mar 02 01:29:00 AM: (If you need to solve this problem multiple times, but with different data, consider using parameters.)\n",
      "(CVXPY) Mar 02 01:29:00 AM: CVXPY will first compile your problem; then, it will invoke a numerical solver to obtain a solution.\n",
      "-------------------------------------------------------------------------------\n",
      "                                  Compilation                                  \n",
      "-------------------------------------------------------------------------------\n",
      "(CVXPY) Mar 02 01:29:00 AM: Compiling problem (target solver=SCS).\n",
      "(CVXPY) Mar 02 01:29:00 AM: Reduction chain: Dcp2Cone -> CvxAttr2Constr -> ConeMatrixStuffing -> SCS\n",
      "(CVXPY) Mar 02 01:29:00 AM: Applying reduction Dcp2Cone\n",
      "(CVXPY) Mar 02 01:29:00 AM: Applying reduction CvxAttr2Constr\n",
      "(CVXPY) Mar 02 01:29:00 AM: Applying reduction ConeMatrixStuffing\n",
      "(CVXPY) Mar 02 01:29:00 AM: Applying reduction SCS\n",
      "(CVXPY) Mar 02 01:29:00 AM: Finished problem compilation (took 7.640e-03 seconds).\n",
      "-------------------------------------------------------------------------------\n",
      "                                Numerical solver                               \n",
      "-------------------------------------------------------------------------------\n",
      "(CVXPY) Mar 02 01:29:00 AM: Invoking solver SCS  to obtain a solution.\n",
      "------------------------------------------------------------------\n",
      "\t       SCS v3.2.0 - Splitting Conic Solver\n",
      "\t(c) Brendan O'Donoghue, Stanford University, 2012\n",
      "------------------------------------------------------------------\n",
      "problem:  variables n: 6, constraints m: 10\n",
      "cones: \t  z: primal zero / dual free vars: 4\n",
      "\t  l: linear vars: 3\n",
      "\t  s: psd vars: 3, ssize: 1\n",
      "settings: eps_abs: 1.0e-05, eps_rel: 1.0e-05, eps_infeas: 1.0e-07\n",
      "\t  alpha: 1.50, scale: 1.00e-01, adaptive_scale: 1\n",
      "\t  max_iters: 100000, normalize: 1, rho_x: 1.00e-06\n",
      "\t  acceleration_lookback: 10, acceleration_interval: 10\n",
      "lin-sys:  sparse-direct\n",
      "\t  nnz(A): 15, nnz(P): 0\n",
      "------------------------------------------------------------------\n",
      " iter | pri res | dua res |   gap   |   obj   |  scale  | time (s)\n",
      "------------------------------------------------------------------\n",
      "     0| 6.71e+00  2.00e+00  7.22e+00 -7.40e-01  1.00e-01  7.97e-04 \n",
      "   100| 1.27e-05  2.14e-07  1.59e-07  1.00e+00  1.00e-01  9.05e-04 \n",
      "------------------------------------------------------------------\n",
      "status:  solved\n",
      "timings: total: 2.02e-03s = setup: 1.11e-03s + solve: 9.11e-04s\n",
      "\t lin-sys: 2.28e-05s, cones: 6.51e-05s, accel: 1.82e-06s\n",
      "------------------------------------------------------------------\n",
      "objective = 1.000000\n",
      "------------------------------------------------------------------\n",
      "-------------------------------------------------------------------------------\n",
      "                                    Summary                                    \n",
      "-------------------------------------------------------------------------------\n",
      "(CVXPY) Mar 02 01:29:00 AM: Problem status: optimal\n",
      "(CVXPY) Mar 02 01:29:00 AM: Optimal value: 1.000e+00\n",
      "(CVXPY) Mar 02 01:29:00 AM: Compilation took 7.640e-03 seconds\n",
      "(CVXPY) Mar 02 01:29:00 AM: Solver (including time spent in interface) took 3.263e-03 seconds\n",
      "[-1.38714657e-08  1.27164131e-05  9.99987298e-01]\n",
      "0.9999999864106304\n"
     ]
    }
   ],
   "source": [
    "x = cp.Variable(3)\n",
    "Z = cp.Variable((2,2),PSD=True)\n",
    "objective = cp.Minimize(2*x[0]+x[1]+x[2])\n",
    "constraints = [0 <= x, sum(x)==1, Z[0,0]==x[0],Z[0,1]==x[1],Z[1,1]==x[2]]\n",
    "prob = cp.Problem(objective, constraints)\n",
    "\n",
    "# The optimal objective value is returned by `prob.solve()`.\n",
    "result = prob.solve(verbose=True)\n",
    "# The optimal value for x is stored in `x.value`.\n",
    "print(x.value)\n",
    "print(result)"
   ]
  },
  {
   "cell_type": "markdown",
   "metadata": {},
   "source": [
    "## Use ''For Loop'' to specify constraint/objective"
   ]
  },
  {
   "cell_type": "code",
   "execution_count": 3,
   "metadata": {},
   "outputs": [
    {
     "name": "stdout",
     "output_type": "stream",
     "text": [
      "[999.99999992 499.99999998 333.33333331 249.99999996 199.99999995\n",
      " 166.66666661 142.8571428  124.99999994 111.11111105  99.99999994]\n"
     ]
    }
   ],
   "source": [
    "import cvxpy as cvx\n",
    "\n",
    "samples = 10\n",
    "x = cvx.Variable(samples)\n",
    "y = range(1, samples+1)\n",
    "constraints = []\n",
    "\n",
    "for i in range(samples):\n",
    "    constraints += [\n",
    "        y[i] * x[i] <= 1000,\n",
    "        x[i] >= i\n",
    "    ]\n",
    "\n",
    "objective = cvx.Maximize(cvx.sum(x)) \n",
    "# Note in earlier versions of CVX, the function cvx.sum is named as cvx.sum_entries\n",
    "\n",
    "prob = cvx.Problem(objective, constraints)\n",
    "prob.solve()\n",
    "print(x.value)"
   ]
  },
  {
   "cell_type": "markdown",
   "metadata": {},
   "source": [
    "## Install:\n",
    "\n",
    "The following link contains useful information of installation of CVXPY and other solvers:\n",
    "https://www.cvxpy.org/install/index.html"
   ]
  },
  {
   "cell_type": "markdown",
   "metadata": {},
   "source": [
    "### Advanced features:\n",
    "\n",
    "The following link contains useful information:\n",
    "https://www.cvxpy.org/tutorial/advanced/index.html"
   ]
  },
  {
   "cell_type": "markdown",
   "metadata": {},
   "source": [
    "### Change solvers/solver options:\n",
    "prob.solve(solver=cp.SCS, verbose=True, use_indirect=True)\n",
    "\n",
    "Useful solvers with free academic lisence:\n",
    "\n",
    "Gurobi: https://www.gurobi.com/\n",
    "\n",
    "Mosek: https://www.mosek.com/"
   ]
  },
  {
   "cell_type": "markdown",
   "metadata": {},
   "source": [
    "### Convex function specification:\n",
    "https://www.cvxpy.org/tutorial/functions/index.html"
   ]
  },
  {
   "cell_type": "markdown",
   "metadata": {},
   "source": [
    "## Dual variable"
   ]
  },
  {
   "cell_type": "code",
   "execution_count": 6,
   "metadata": {},
   "outputs": [
    {
     "name": "stdout",
     "output_type": "stream",
     "text": [
      "optimal (x + y == 1) dual variable 0.0\n",
      "optimal (x - y >= 1) dual variable 2.0\n",
      "x - y value: 1.0\n"
     ]
    }
   ],
   "source": [
    "import cvxpy as cp\n",
    "\n",
    "# Create two scalar optimization variables.\n",
    "x = cp.Variable()\n",
    "y = cp.Variable()\n",
    "\n",
    "# Create two constraints.\n",
    "constraints = [x + y == 1,\n",
    "               x - y >= 1]\n",
    "\n",
    "# Form objective.\n",
    "obj = cp.Minimize((x - y)**2)\n",
    "\n",
    "# Form and solve problem.\n",
    "prob = cp.Problem(obj, constraints)\n",
    "prob.solve()\n",
    "\n",
    "# The optimal dual variable (Lagrange multiplier) for\n",
    "# a constraint is stored in constraint.dual_value.\n",
    "print(\"optimal (x + y == 1) dual variable\", constraints[0].dual_value)\n",
    "print(\"optimal (x - y >= 1) dual variable\", constraints[1].dual_value)\n",
    "print(\"x - y value:\", (x - y).value)"
   ]
  },
  {
   "cell_type": "code",
   "execution_count": 6,
   "metadata": {},
   "outputs": [],
   "source": []
  },
  {
   "cell_type": "code",
   "execution_count": null,
   "metadata": {},
   "outputs": [],
   "source": []
  }
 ],
 "metadata": {
  "kernelspec": {
   "display_name": "Python 3",
   "language": "python",
   "name": "python3"
  },
  "language_info": {
   "codemirror_mode": {
    "name": "ipython",
    "version": 3
   },
   "file_extension": ".py",
   "mimetype": "text/x-python",
   "name": "python",
   "nbconvert_exporter": "python",
   "pygments_lexer": "ipython3",
   "version": "3.9.7"
  }
 },
 "nbformat": 4,
 "nbformat_minor": 2
}
